{
 "cells": [
  {
   "cell_type": "markdown",
   "metadata": {},
   "source": [
    "VacationPy"
   ]
  },
  {
   "cell_type": "code",
   "execution_count": 2,
   "metadata": {},
   "outputs": [],
   "source": [
    "#Dependencies \n",
    "import gmaps\n",
    "import pandas as pd\n",
    "# Google developer API key\n",
    "from config import gkey\n",
    "\n",
    "# Access maps with unique API key\n",
    "gmaps.configure(api_key=gkey)"
   ]
  },
  {
   "cell_type": "code",
   "execution_count": 3,
   "metadata": {},
   "outputs": [
    {
     "data": {
      "text/html": [
       "<div>\n",
       "<style scoped>\n",
       "    .dataframe tbody tr th:only-of-type {\n",
       "        vertical-align: middle;\n",
       "    }\n",
       "\n",
       "    .dataframe tbody tr th {\n",
       "        vertical-align: top;\n",
       "    }\n",
       "\n",
       "    .dataframe thead th {\n",
       "        text-align: right;\n",
       "    }\n",
       "</style>\n",
       "<table border=\"1\" class=\"dataframe\">\n",
       "  <thead>\n",
       "    <tr style=\"text-align: right;\">\n",
       "      <th></th>\n",
       "      <th>Unnamed: 0</th>\n",
       "      <th>City</th>\n",
       "      <th>Cloudiness</th>\n",
       "      <th>Country</th>\n",
       "      <th>Date</th>\n",
       "      <th>Humidity</th>\n",
       "      <th>Latitude</th>\n",
       "      <th>Longitude</th>\n",
       "      <th>Maximum Temperature</th>\n",
       "      <th>Wind Speed</th>\n",
       "    </tr>\n",
       "  </thead>\n",
       "  <tbody>\n",
       "    <tr>\n",
       "      <th>0</th>\n",
       "      <td>0</td>\n",
       "      <td>bouza</td>\n",
       "      <td>0</td>\n",
       "      <td>NE</td>\n",
       "      <td>1602444005</td>\n",
       "      <td>18</td>\n",
       "      <td>14.42</td>\n",
       "      <td>6.04</td>\n",
       "      <td>93.97</td>\n",
       "      <td>5.08</td>\n",
       "    </tr>\n",
       "    <tr>\n",
       "      <th>1</th>\n",
       "      <td>1</td>\n",
       "      <td>castro</td>\n",
       "      <td>0</td>\n",
       "      <td>BR</td>\n",
       "      <td>1602443806</td>\n",
       "      <td>47</td>\n",
       "      <td>-24.79</td>\n",
       "      <td>-50.01</td>\n",
       "      <td>72.99</td>\n",
       "      <td>3.33</td>\n",
       "    </tr>\n",
       "    <tr>\n",
       "      <th>2</th>\n",
       "      <td>2</td>\n",
       "      <td>bandarbeyla</td>\n",
       "      <td>26</td>\n",
       "      <td>SO</td>\n",
       "      <td>1602443837</td>\n",
       "      <td>77</td>\n",
       "      <td>9.49</td>\n",
       "      <td>50.81</td>\n",
       "      <td>78.73</td>\n",
       "      <td>4.16</td>\n",
       "    </tr>\n",
       "    <tr>\n",
       "      <th>3</th>\n",
       "      <td>3</td>\n",
       "      <td>numan</td>\n",
       "      <td>81</td>\n",
       "      <td>NG</td>\n",
       "      <td>1602444006</td>\n",
       "      <td>77</td>\n",
       "      <td>9.47</td>\n",
       "      <td>12.03</td>\n",
       "      <td>79.56</td>\n",
       "      <td>6.02</td>\n",
       "    </tr>\n",
       "    <tr>\n",
       "      <th>4</th>\n",
       "      <td>4</td>\n",
       "      <td>rikitea</td>\n",
       "      <td>47</td>\n",
       "      <td>PF</td>\n",
       "      <td>1602443801</td>\n",
       "      <td>78</td>\n",
       "      <td>-23.12</td>\n",
       "      <td>-134.97</td>\n",
       "      <td>73.90</td>\n",
       "      <td>13.11</td>\n",
       "    </tr>\n",
       "  </tbody>\n",
       "</table>\n",
       "</div>"
      ],
      "text/plain": [
       "   Unnamed: 0         City  Cloudiness Country        Date  Humidity  \\\n",
       "0           0        bouza           0      NE  1602444005        18   \n",
       "1           1       castro           0      BR  1602443806        47   \n",
       "2           2  bandarbeyla          26      SO  1602443837        77   \n",
       "3           3        numan          81      NG  1602444006        77   \n",
       "4           4      rikitea          47      PF  1602443801        78   \n",
       "\n",
       "   Latitude  Longitude  Maximum Temperature  Wind Speed  \n",
       "0     14.42       6.04                93.97        5.08  \n",
       "1    -24.79     -50.01                72.99        3.33  \n",
       "2      9.49      50.81                78.73        4.16  \n",
       "3      9.47      12.03                79.56        6.02  \n",
       "4    -23.12    -134.97                73.90       13.11  "
      ]
     },
     "execution_count": 3,
     "metadata": {},
     "output_type": "execute_result"
    }
   ],
   "source": [
    "#CSV file with cities data\n",
    "weather_df = pd.read_csv('/Users/medinai/Desktop/python-api-challenge/WeatherPy/Output/weather_df.csv')\n",
    "weather_df.head()\n"
   ]
  },
  {
   "cell_type": "code",
   "execution_count": 4,
   "metadata": {},
   "outputs": [],
   "source": [
    "# Store Latitude & Longitude into  locations \n",
    "locations = weather_df[[\"Latitude\", \"Longitude\"]].astype(float)\n",
    "\n"
   ]
  },
  {
   "cell_type": "code",
   "execution_count": 8,
   "metadata": {},
   "outputs": [
    {
     "data": {
      "application/vnd.jupyter.widget-view+json": {
       "model_id": "3eace612832f41799c1c7e70bded1441",
       "version_major": 2,
       "version_minor": 0
      },
      "text/plain": [
       "Figure(layout=FigureLayout(height='420px'))"
      ]
     },
     "metadata": {},
     "output_type": "display_data"
    }
   ],
   "source": [
    "# Create Heatmap layer\n",
    "fig = gmaps.figure()\n",
    "\n",
    "heat_layer = gmaps.heatmap_layer(locations, \n",
    "                                 weights=weather_df['Maximum Temperature'], \n",
    "                                 dissipating=False, max_intensity=100,\n",
    "                                 point_radius = 5)\n",
    "\n",
    "fig.add_layer(heat_layer)\n",
    "\n",
    "fig"
   ]
  },
  {
   "cell_type": "code",
   "execution_count": null,
   "metadata": {},
   "outputs": [],
   "source": []
  }
 ],
 "metadata": {
  "kernelspec": {
   "display_name": "Python 3",
   "language": "python",
   "name": "python3"
  },
  "language_info": {
   "codemirror_mode": {
    "name": "ipython",
    "version": 3
   },
   "file_extension": ".py",
   "mimetype": "text/x-python",
   "name": "python",
   "nbconvert_exporter": "python",
   "pygments_lexer": "ipython3",
   "version": "3.6.10"
  }
 },
 "nbformat": 4,
 "nbformat_minor": 4
}
